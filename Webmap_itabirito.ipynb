{
 "cells": [
  {
   "cell_type": "code",
   "execution_count": null,
   "metadata": {
    "id": "M5jYV65uIZlg"
   },
   "outputs": [],
   "source": [
    "#Libs\n",
    "import folium\n",
    "import geopandas as gpd\n",
    "import json\n",
    "import geobr\n",
    "from folium.plugins import Geocoder\n"
   ]
  },
  {
   "cell_type": "code",
   "execution_count": null,
   "metadata": {
    "colab": {
     "base_uri": "https://localhost:8080/"
    },
    "id": "AZ_b_KGwI0eb",
    "outputId": "2e7ca1d1-b4c3-431b-8c5a-e7a1d66831a3",
    "tags": []
   },
   "outputs": [],
   "source": [
    "#Geobr \n",
    "ita = geobr.read_municipality(code_muni = 3131901)\n",
    "ita.crs= 'EPSG:4326'"
   ]
  },
  {
   "cell_type": "code",
   "execution_count": null,
   "metadata": {
    "colab": {
     "base_uri": "https://localhost:8080/"
    },
    "id": "s1b3U1xqJ-UF",
    "outputId": "7681f71e-82da-4d7e-8911-b2269e568696",
    "tags": []
   },
   "outputs": [],
   "source": [
    "#Reading shapefiles\n",
    "risco_en = gpd.read_file('Data/risco enchente/risco_enchente.shp')\n",
    "vocorocas = gpd.read_file('Data/Voçorocas/vocorocas.shp')\n",
    "risco_geo = gpd.read_file('Data/Risco Geológico/risco_geo.shp')\n",
    "zoneamento = gpd.read_file('Data/Zoneamento/zoneamento3.shp')\n",
    "bairros = gpd.read_file('Data/Bairros/bairros.shp')\n",
    "uc = gpd.read_file('Data/UC/uc.shp')\n",
    "barragens = gpd.read_file('Data/Barragens/barragem.shp')\n",
    "app=gpd.read_file('Data/APP/app.shp')\n",
    "app['Cidade'] = 'Itabirito'\n",
    "pe = gpd.read_file('Data/Parque Ecológico/PE.shp')\n",
    "hidro = gpd.read_file('Data/Hidrografia/hidro.shp')\n",
    "hidro.crs= 'EPSG:4326'\n",
    "app_na = gpd.read_file('Data/app_nascentes/app_na.shp')\n",
    "av = gpd.read_file('Data/areasverdes/av.gpkg')\n",
    "na = gpd.read_file('Data/Nascentes/na.shp')"
   ]
  },
  {
   "cell_type": "code",
   "execution_count": null,
   "metadata": {},
   "outputs": [],
   "source": [
    "#making functions\n",
    "#polygons and lines\n",
    "def fg_polygon(gdf,name1:str, popup, columm,fill_color:str, color:str, show1 = False):\n",
    "    if show1 == True:\n",
    "        fg1= folium.FeatureGroup(name=name1, show=True)\n",
    "    else:\n",
    "        fg1= folium.FeatureGroup(name=name1, show=False)\n",
    "\n",
    "    gdf[columm]=gdf[columm].astype(str)\n",
    "    gdf = gdf.to_crs(epsg=4326)\n",
    "    \n",
    "\n",
    "    for _, r in gdf.iterrows():\n",
    "\n",
    "        sim_geo = gpd.GeoSeries(r['geometry'])\n",
    "        geo_j = sim_geo.to_json()\n",
    "        geo_j = folium.GeoJson(data=geo_j,style_function=lambda x: {'fillColor': fill_color, 'color':color})\n",
    "        folium.Popup(popup + r[columm]).add_to(geo_j)\n",
    "        fg1.add_child(geo_j)\n",
    "\n",
    "    return fg1.add_to(m)\n",
    "\n",
    "#points\n",
    "def fg_point(gdf,name1:str, columm ,radius1 ,weight1, color1):\n",
    "\n",
    "    fg1= folium.FeatureGroup(name=name1, show=False)\n",
    "\n",
    "    gdf[columm]=gdf[columm].astype(str)\n",
    "    gdf = gdf.to_crs(epsg=4326)\n",
    "\n",
    "    for _, r in gdf.iterrows():\n",
    "        sim_geo = gpd.GeoSeries(r['geometry'])\n",
    "        geo_j = sim_geo.to_json()\n",
    "        geo_j_dict = json.loads(geo_j)\n",
    "        for feature in geo_j_dict['features']:\n",
    "            geometry = feature[\"geometry\"][\"coordinates\"]\n",
    "            a = tuple(geometry)\n",
    "            if len(a) == 1:\n",
    "                \n",
    "                b = tuple(a[0])\n",
    "                if len(b) == 2:\n",
    "                    c = (b[1], b[0])\n",
    "                    geo_j = folium.Circle(location=c ,radius=radius1, weight=weight1, color=color1 )\n",
    "                else:\n",
    "                    c = tuple(b[0])\n",
    "                    d = (c[1], c[0])\n",
    "                    geo_j = folium.Circle(location=d ,radius=radius1, weight=weight1, color=color1 )\n",
    "            else:\n",
    "                c = (a[1], a[0])\n",
    "                geo_j = folium.Circle(location=c ,radius=radius1, weight=weight1, color=color1 )\n",
    "        folium.Popup(r[columm]).add_to(geo_j)\n",
    "        fg1.add_child(geo_j)\n",
    "\n",
    "    return fg1.add_to(m)\n",
    "\n"
   ]
  },
  {
   "cell_type": "code",
   "execution_count": null,
   "metadata": {
    "id": "kVi2lIoELtsY"
   },
   "outputs": [],
   "source": [
    "# Create a map using Folium\n",
    "m = folium.Map(location=[-20.260629, -43.804297], zoom_start=10.5,show=False, control_scale = True )\n",
    "\n"
   ]
  },
  {
   "cell_type": "code",
   "execution_count": null,
   "metadata": {},
   "outputs": [],
   "source": [
    "#using functions\n",
    "fg_polygon(ita, 'Limite Municipal(IBGE)', 'cidade: ', 'name_muni', '#000000', '#000000', show1 = True )\n",
    "fg_polygon(hidro,'Hidrografia (IGAM adapt. SEMAM)', 'Nome:  ', 'NORIOCOMP', '#0000CD', '#0000CD')\n",
    "fg_point(na, 'Nascentes (SEMAM)', 'NORIOCOMP', 5, 3, 'blue')\n",
    "fg_polygon(app,'Áreas de Preservação Permanentes - Hidrografia (SEMAM)', 'APP ', 'Cidade', '#000000','\t#76EEC6')\n",
    "fg_point(app_na, 'Áreas de Preservação Permanentes - Nascentes (SEMAM)', 'NORIOCOMP', 5,2,'\t#76EEC6')\n",
    "fg_polygon(uc,'Unidades de Conservação (Inst. Pristino)', 'Unidade: ', 'nome_uc', 'green', 'black')\n",
    "fg_polygon(pe,'Perímetro Parque Ecológico Municipal (SEMAM)', 'Área:  ', 'Área', '#000000', '#3D9140')\n",
    "fg_polygon(zoneamento,'Zoneamento Municipal (SEMURB)', 'Setor: ', 'SETOR', 'orange', 'black')\n",
    "fg_polygon(bairros,'Bairros Municipais (IBGE)', 'Bairro: ', 'BAIRRO', 'yellow', 'black')\n",
    "fg_point(barragens,'Barragens (FEAM)' , 'nome_bar', 10, 10, 'brown'  )\n",
    "fg_polygon(vocorocas, 'Mapeamento Voçorocas (SEMAM)', 'Área (m²): ', 'AREA_M2','brown','black' )\n",
    "fg_polygon(risco_geo, 'Risco Geológico (Defesa Civil)', 'Área (m²): ', 'AREA_M2','brown','black')\n",
    "fg_polygon(risco_en,'Risco de Inundação (Defesa Civil)', 'Área (m²): ', 'AREA_M2', 'brown', 'black')\n",
    "fg_point(av, 'Áreas Verdes (SEMAM)', \"fid\", 10, 5, 'green' )\n",
    "\n"
   ]
  },
  {
   "cell_type": "code",
   "execution_count": null,
   "metadata": {
    "colab": {
     "base_uri": "https://localhost:8080/"
    },
    "id": "ywXO5F0lOZdc",
    "outputId": "9949fb63-82f7-4fd4-bf37-2c01c5800333"
   },
   "outputs": [],
   "source": [
    "# Add Extra Tools\n",
    "#Google Basemap \n",
    "tiles = folium.TileLayer(\n",
    "        tiles ='https://mt1.google.com/vt/lyrs=s&x={x}&y={y}&z={z}',\n",
    "        attr = 'Google',\n",
    "        name = 'Google Satellite',\n",
    "        overlay = False,\n",
    "        control = True,\n",
    "        control_scale = True).add_to(m)\n",
    "\n",
    "# Layer Control\n",
    "folium.LayerControl().add_to(m)\n",
    "\n",
    "# Distance Measure\n",
    "folium.plugins.MeasureControl(position='topleft').add_to(m)\n",
    "\n",
    "\n",
    "# Search bar\n",
    "\n",
    "Geocoder(collapsed=True, position='topleft').add_to(m)\n"
   ]
  },
  {
   "cell_type": "code",
   "execution_count": null,
   "metadata": {
    "id": "BS7HoGCHO6tZ"
   },
   "outputs": [],
   "source": [
    "#Saving.html\n",
    "\n",
    "m.save(\"Webmap_itabirito.html\")"
   ]
  }
 ],
 "metadata": {
  "colab": {
   "provenance": []
  },
  "kernelspec": {
   "display_name": "Python 3 (ipykernel)",
   "language": "python",
   "name": "python3"
  },
  "language_info": {
   "codemirror_mode": {
    "name": "ipython",
    "version": 3
   },
   "file_extension": ".py",
   "mimetype": "text/x-python",
   "name": "python",
   "nbconvert_exporter": "python",
   "pygments_lexer": "ipython3",
   "version": "3.9.12"
  }
 },
 "nbformat": 4,
 "nbformat_minor": 4
}
