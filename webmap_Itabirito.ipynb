{
 "cells": [
  {
   "cell_type": "code",
   "execution_count": null,
   "metadata": {
    "id": "M5jYV65uIZlg"
   },
   "outputs": [],
   "source": [
    "#Libs\n",
    "import folium\n",
    "import geopandas as gpd\n",
    "import json\n",
    "import geobr\n",
    "from folium.plugins import Geocoder\n"
   ]
  },
  {
   "cell_type": "code",
   "execution_count": null,
   "metadata": {
    "colab": {
     "base_uri": "https://localhost:8080/"
    },
    "id": "AZ_b_KGwI0eb",
    "outputId": "2e7ca1d1-b4c3-431b-8c5a-e7a1d66831a3",
    "tags": []
   },
   "outputs": [],
   "source": [
    "#Geobr \n",
    "ita = geobr.read_municipality(code_muni = 3131901)\n",
    "ita_json = ita.to_json()"
   ]
  },
  {
   "cell_type": "code",
   "execution_count": null,
   "metadata": {
    "id": "2RTMwnE6JwIO"
   },
   "outputs": [],
   "source": [
    "#Reading json files\n",
    "\n",
    "h = open('Data/Hidrografia/hidrografia1.geojson', encoding=\"utf8\")\n",
    "hidro = json.load(h)\n",
    "pe = open('Data/Parque Ecológico/PE.geojson', encoding=\"utf8\")\n",
    "PE = json.load(pe)\n",
    "app = open('Data/APP/app.geojson', encoding=\"utf8\")\n",
    "APP = json.load(app)\n",
    "nascentes = open('Data/Nascentes/nascentes.geojson', encoding=\"utf8\")\n",
    "na = json.load(nascentes)\n",
    "areas_verdes = open('Data/areasverdes/av.geojson', encoding=\"utf8\")\n",
    "av = json.load(areas_verdes)\n",
    "app_na = open('Data/app_nascentes/app_nascentes.geojson', encoding=\"utf8\")\n",
    "App_na = json.load(app_na)"
   ]
  },
  {
   "cell_type": "code",
   "execution_count": null,
   "metadata": {
    "colab": {
     "base_uri": "https://localhost:8080/"
    },
    "id": "s1b3U1xqJ-UF",
    "outputId": "7681f71e-82da-4d7e-8911-b2269e568696",
    "tags": []
   },
   "outputs": [],
   "source": [
    "#Reading shapefiles\n",
    "risco_en = gpd.read_file('Data/risco enchente/risco_enchente.shp')\n",
    "vocorocas = gpd.read_file('Data/Voçorocas/vocorocas.shp')\n",
    "risco_geo = gpd.read_file('Data/Risco Geológico/risco_geo.shp')\n",
    "zoneamento = gpd.read_file('Data/Zoneamento/zoneamento3.shp')\n",
    "bairros = gpd.read_file('Data/Bairros/bairros.shp')\n",
    "uc = gpd.read_file('Data/UC/uc.shp')\n",
    "barragens = gpd.read_file('Data/Barragens/barragem.shp')"
   ]
  },
  {
   "cell_type": "code",
   "execution_count": null,
   "metadata": {
    "id": "P70adcIjK55v",
    "tags": []
   },
   "outputs": [],
   "source": [
    "#Data Processing\n",
    "risco_en['AREA_M2'] = risco_en['AREA_M2'].astype(str)\n",
    "\n",
    "vocorocas['AREA_M2'] = vocorocas['AREA_M2'].astype(str)\n",
    "\n",
    "risco_geo['AREA_M2'] = risco_geo['AREA_M2'].astype(str)\n",
    "\n",
    "zoneamento = zoneamento.to_crs(epsg=4326)\n",
    "\n",
    "bairros = bairros.to_crs(epsg=4326)\n",
    "\n",
    "uc = uc.to_crs(epsg=4326)\n",
    "\n",
    "barragens = barragens.to_crs(epsg=4326)\n"
   ]
  },
  {
   "cell_type": "code",
   "execution_count": null,
   "metadata": {
    "id": "kVi2lIoELtsY"
   },
   "outputs": [],
   "source": [
    "# Create a map using Folium\n",
    "m = folium.Map(location=[-20.260629, -43.804297], zoom_start=10.5,show=False, control_scale = True )\n",
    "\n"
   ]
  },
  {
   "cell_type": "code",
   "execution_count": null,
   "metadata": {
    "colab": {
     "base_uri": "https://localhost:8080/"
    },
    "collapsed": true,
    "id": "-an7flSWL1mX",
    "jupyter": {
     "outputs_hidden": true
    },
    "outputId": "db6562e3-c929-4523-a9ae-73292cca907e",
    "tags": []
   },
   "outputs": [],
   "source": [
    "#Creating FeatureGroups\n",
    "\n",
    "fg_voc = folium.FeatureGroup(name='Mapeamento Voçorocas (SEMAM)', show=False)\n",
    "for _, r in vocorocas.iterrows():\n",
    "  \n",
    "    sim_geo = gpd.GeoSeries(r['geometry'])\n",
    "    geo_j = sim_geo.to_json()\n",
    "    geo_j = folium.GeoJson(data=geo_j,style_function=lambda x: {'fillColor': 'brown', 'color':'black'})\n",
    "    folium.Popup('Área (m²): ' + r['AREA_M2']).add_to(geo_j)\n",
    "    fg_voc.add_child(geo_j)\n",
    "\n",
    "fg_riscogeo = folium.FeatureGroup(name='Risco Geológico (Defesa Civil)', show=False)\n",
    "for _, r in risco_geo.iterrows():\n",
    "  \n",
    "    sim_geo = gpd.GeoSeries(r['geometry'])\n",
    "    geo_j = sim_geo.to_json()\n",
    "    geo_j = folium.GeoJson(data=geo_j,style_function=lambda x: {'fillColor': 'brown', 'color':'black'})\n",
    "    folium.Popup('Área (m²): ' + r['AREA_M2']).add_to(geo_j)\n",
    "    fg_riscogeo.add_child(geo_j)\n",
    "\n",
    "fg_zon = folium.FeatureGroup(name='Zoneamento Urbano (SEMURB)', show=False)\n",
    "for _, r in zoneamento.iterrows():\n",
    "    sim_geo = gpd.GeoSeries(r['geometry'])\n",
    "    geo_j = sim_geo.to_json()\n",
    "    geo_j = folium.GeoJson(data=geo_j,style_function=lambda x: {'fillColor': 'orange', 'color':'black'})\n",
    "    folium.Popup('Setor: ' + r['SETOR']).add_to(geo_j)\n",
    "    fg_zon.add_child(geo_j)\n",
    "\n",
    "fg_bairros = folium.FeatureGroup(name='Bairros Municipais (IBGE)', show=False)\n",
    "for _, r in bairros.iterrows():\n",
    "    sim_geo = gpd.GeoSeries(r['geometry'])\n",
    "    geo_j = sim_geo.to_json()\n",
    "    geo_j = folium.GeoJson(data=geo_j,style_function=lambda x: {'fillColor': 'yellow', 'color':'black'})\n",
    "    folium.Popup('Bairro: ' + r['BAIRRO']).add_to(geo_j)\n",
    "    fg_bairros.add_child(geo_j)\n",
    "\n",
    "fg_uc = folium.FeatureGroup(name='Unidades de Conservação (Inst. Pristino)', show=False)\n",
    "for _, r in uc.iterrows():\n",
    "\n",
    "    sim_geo = gpd.GeoSeries(r['geometry'])\n",
    "    geo_j = sim_geo.to_json()\n",
    "    geo_j = folium.GeoJson(data=geo_j,style_function=lambda x: {'fillColor': 'green', 'color':'black'})\n",
    "    folium.Popup( r['nome_uc']).add_to(geo_j)\n",
    "    fg_uc.add_child(geo_j)\n",
    "\n",
    "fg_barragem = folium.FeatureGroup(name='Barragens (FEAM)', show=False)\n",
    "for _, r in barragens.iterrows():\n",
    "\n",
    "    sim_geo = gpd.GeoSeries(r['geometry'])\n",
    "    geo_j = sim_geo.to_json()\n",
    "    geo_j = folium.GeoJson(data=geo_j,style_function=lambda x: {'fillColor': 'green', 'color':'black'})\n",
    "    folium.Popup( r['nome_bar']).add_to(geo_j)\n",
    "    fg_barragem.add_child(geo_j)\n",
    "\n",
    "fg_av = folium.FeatureGroup(name='Áreas Verdes (SEMAM)', show=False,)\n",
    "for feature in av['features']:\n",
    "  geometry = feature[\"geometry\"][\"coordinates\"]\n",
    "  a = tuple(geometry)\n",
    "  c = (a[1], a[0])\n",
    "  fg_av.add_child(folium.Circle(location=(c),radius=10, weight=5, color='green' ))\n",
    "\n",
    "fg = folium.FeatureGroup(name='Nascentes (SEMAM)', show=False,)\n",
    "for feature in na['features']:\n",
    "  geometry = feature[\"geometry\"][\"coordinates\"]\n",
    "  a =  tuple(geometry)\n",
    "  b = tuple(a[0])\n",
    "  c = (b[1], b[0])\n",
    "  fg.add_child(folium.Circle(location=(c),radius=5, weight=3 ))\n",
    "\n",
    "fg_riscoen = folium.FeatureGroup(name='Risco de Inundação (Defesa Civil)', show=False)\n",
    "\n",
    "for _, r in risco_en.iterrows():\n",
    "  \n",
    "    sim_geo = gpd.GeoSeries(r['geometry'])\n",
    "    geo_j = sim_geo.to_json()\n",
    "    geo_j = folium.GeoJson(data=geo_j,style_function=lambda x: {'fillColor': 'brown', 'color':'black'})\n",
    "    folium.Popup('Área (m²): ' + r['AREA_M2']).add_to(geo_j)\n",
    "    fg_riscoen.add_child(geo_j)\n"
   ]
  },
  {
   "cell_type": "code",
   "execution_count": null,
   "metadata": {
    "colab": {
     "base_uri": "https://localhost:8080/"
    },
    "id": "tZc_A7JdNv6D",
    "outputId": "4a7fc04a-d407-4f5a-8950-1b6f59d852dd",
    "tags": []
   },
   "outputs": [],
   "source": [
    "# Add Layers to map\n",
    "folium.GeoJson(data= ita_json, name='Limite Municipal(IBGE)',  style_function=lambda x: {'fillColor': '#000000', 'color': '#000000', 'weight': 5}).add_to(m)\n",
    "folium.GeoJson(data= hidro, name='Hidrografia (IGAM adapt. SEMAM)', show=False, style_function=lambda x: {'fillColor': '#0000CD', 'color': '#0000CD', 'weight': 1} ).add_to(m)\n",
    "fg.add_to(m)\n",
    "folium.GeoJson(data= APP, name='Áreas de Preservação Permanentes - Hidrografia (SEMAM)', show=False,  style_function=lambda x: {'fillColor': '#000000', 'color': '\t#76EEC6', 'weight':2} ).add_to(m)\n",
    "folium.GeoJson(data= App_na, name='Áreas de Preservação Permanentes - Nascentes (SEMAM)', show=False,  style_function=lambda x: {'fillColor': '#000000', 'color': '\t#76EEC6', 'weight':2} ).add_to(m)\n",
    "fg_uc.add_to(m)  \n",
    "folium.GeoJson(data= PE, name='Perímetro Parque Ecológico Municipal (SEMAM)', show=False,  style_function=lambda x: {'fillColor': '#000000', 'color': '\t#3D9140', 'weight': 3} ).add_to(m)\n",
    "fg_zon.add_to(m)  \n",
    "fg_bairros.add_to(m) \n",
    "fg_barragem.add_to(m)\n",
    "fg_voc.add_to(m) \n",
    "fg_riscogeo.add_to(m)\n",
    "fg_riscoen.add_to(m)\n",
    "fg_av.add_to(m)"
   ]
  },
  {
   "cell_type": "code",
   "execution_count": null,
   "metadata": {
    "colab": {
     "base_uri": "https://localhost:8080/"
    },
    "id": "ywXO5F0lOZdc",
    "outputId": "9949fb63-82f7-4fd4-bf37-2c01c5800333"
   },
   "outputs": [],
   "source": [
    "# Add Extra \n",
    "#Basemap Google\n",
    "tiles = folium.TileLayer(\n",
    "        tiles ='https://mt1.google.com/vt/lyrs=s&x={x}&y={y}&z={z}',\n",
    "        attr = 'Google',\n",
    "        name = 'Google Satellite',\n",
    "        overlay = False,\n",
    "        control = True,\n",
    "        control_scale = True).add_to(m)\n",
    "\n",
    "# Controle de camadas\n",
    "folium.LayerControl().add_to(m)\n",
    "\n",
    "# Medidor distancia\n",
    "folium.plugins.MeasureControl(position='topleft').add_to(m)\n",
    "\n",
    "\n",
    "# Barra de Pesquisa\n",
    "\n",
    "Geocoder(collapsed=True, position='topleft').add_to(m)\n"
   ]
  },
  {
   "cell_type": "code",
   "execution_count": null,
   "metadata": {
    "id": "BS7HoGCHO6tZ"
   },
   "outputs": [],
   "source": [
    "#salvando .html\n",
    "\n",
    "m.save(\"teste.html\")"
   ]
  }
 ],
 "metadata": {
  "colab": {
   "provenance": []
  },
  "kernelspec": {
   "display_name": "Python 3 (ipykernel)",
   "language": "python",
   "name": "python3"
  },
  "language_info": {
   "codemirror_mode": {
    "name": "ipython",
    "version": 3
   },
   "file_extension": ".py",
   "mimetype": "text/x-python",
   "name": "python",
   "nbconvert_exporter": "python",
   "pygments_lexer": "ipython3",
   "version": "3.9.12"
  }
 },
 "nbformat": 4,
 "nbformat_minor": 4
}
